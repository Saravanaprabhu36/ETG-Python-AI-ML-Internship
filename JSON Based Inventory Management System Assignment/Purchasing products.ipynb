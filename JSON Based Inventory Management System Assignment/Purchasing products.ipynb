{
 "cells": [
  {
   "cell_type": "markdown",
   "metadata": {
    "id": "R6NHgAYkxqSl"
   },
   "source": [
    "## Read Inventory"
   ]
  },
  {
   "cell_type": "code",
   "execution_count": 29,
   "metadata": {
    "id": "jkJT24jqug9n"
   },
   "outputs": [],
   "source": [
    "import json\n",
    "\n",
    "fd = open(\"record.json\",'r')\n",
    "r = fd.read()\n",
    "fd.close()\n",
    "\n",
    "records = json.loads(r)"
   ]
  },
  {
   "cell_type": "code",
   "execution_count": 30,
   "metadata": {
    "colab": {
     "base_uri": "https://localhost:8080/"
    },
    "id": "CcLYokrlus6z",
    "outputId": "525ffebc-7e32-463b-b0a4-2e6e9fc73f7c"
   },
   "outputs": [
    {
     "data": {
      "text/plain": [
       "{'1001': {'name': 'Doritos', 'price': 35, 'quantity': 500},\n",
       " '1002': {'name': 'Dairy Milk', 'price': 80, 'quantity': 310},\n",
       " '1003': {'name': 'Blackcurrant', 'price': 400, 'quantity': 100},\n",
       " '1004': {'name': 'Lux', 'price': 50, 'quantity': 920},\n",
       " '1005': {'name': 'VVD', 'price': 120, 'quantity': 125},\n",
       " '1006': {'name': 'Alpenlibe', 'price': 20, 'quantity': 1020},\n",
       " '1007': {'name': 'Sprite', 'price': 65, 'quantity': 885},\n",
       " '1008': {'name': 'Pen', 'price': 10, 'quantity': 1900},\n",
       " '1009': {'name': 'Monitor', 'price': 4500, 'quantity': 150},\n",
       " '1010': {'name': 'Mobile', 'price': 35000, 'quantity': 60},\n",
       " '1011': {'name': 'Airpods', 'price': 12999, 'quantity': 98},\n",
       " '1012': {'name': 'Keyboard', 'price': 699, 'quantity': 20},\n",
       " '1013': {'name': 'Mouse', 'price': 420, 'quantity': 710},\n",
       " '1014': {'name': 'Bottle', 'price': 105, 'quantity': 965},\n",
       " '1015': {'name': 'Charger', 'price': 99, 'quantity': 250},\n",
       " '1016': {'name': 'Calendar', 'price': 49, 'quantity': 545},\n",
       " '1017': {'name': 'Smart Watch', 'price': 3780, 'quantity': 46},\n",
       " '1018': {'name': 'Olive oil', 'price': 299, 'quantity': 104},\n",
       " '1019': {'name': 'Sponge', 'price': 79, 'quantity': 354},\n",
       " '1020': {'name': 'Toolkit', 'price': 799, 'quantity': 22},\n",
       " '1021': {'name': 'Shoes', 'price': 2899, 'quantity': 70},\n",
       " '1022': {'name': 'Shirt', 'price': 570, 'quantity': 400},\n",
       " '1023': {'name': 'Pringles', 'price': 119, 'quantity': 900},\n",
       " '1024': {'name': 'Dish', 'price': 260, 'quantity': 500},\n",
       " '1025': {'name': 'Coffee', 'price': 185, 'quantity': 175},\n",
       " '1026': {'name': 'Air Conditioner', 'price': 42500, 'quantity': 6},\n",
       " '1027': {'name': 'Washing Machine', 'price': 15999, 'quantity': 3},\n",
       " '1028': {'name': 'Pillow', 'price': 975, 'quantity': 87},\n",
       " '1029': {'name': 'Joy Stick', 'price': 1199, 'quantity': 255},\n",
       " '1030': {'name': 'PS5', 'price': 49499, 'quantity': 30},\n",
       " '1031': {'name': 'Xbox One', 'price': 28499, 'quantity': 45}}"
      ]
     },
     "execution_count": 30,
     "metadata": {},
     "output_type": "execute_result"
    }
   ],
   "source": [
    "records"
   ]
  },
  {
   "cell_type": "markdown",
   "metadata": {
    "id": "WI5f7HTuxwzb"
   },
   "source": [
    "## Purchase"
   ]
  },
  {
   "cell_type": "code",
   "execution_count": 31,
   "metadata": {
    "colab": {
     "base_uri": "https://localhost:8080/"
    },
    "id": "c4E4eIvyuth0",
    "outputId": "91896933-af33-4e3e-ad2b-478c1243c6a3"
   },
   "outputs": [
    {
     "name": "stdout",
     "output_type": "stream",
     "text": [
      "Enter the number of elements to purchase: 10\n",
      "\n",
      "\n",
      "=====================================================================\n",
      "Enter the product_Id: 1025\n",
      "Enter the quantity: 3\n",
      "Product:  Coffee\n",
      "Price:  185\n",
      "Billing Amount:  555\n",
      "=====================================================================\n",
      "Enter the product_Id: 1031\n",
      "Enter the quantity: 2\n",
      "Product:  Xbox One\n",
      "Price:  28499\n",
      "Billing Amount:  56998\n",
      "=====================================================================\n",
      "Enter the product_Id: 1005\n",
      "Enter the quantity: 5\n",
      "Product:  VVD\n",
      "Price:  120\n",
      "Billing Amount:  600\n",
      "=====================================================================\n",
      "Enter the product_Id: 1010\n",
      "Enter the quantity: 6\n",
      "Product:  Mobile\n",
      "Price:  35000\n",
      "Billing Amount:  210000\n",
      "=====================================================================\n",
      "Enter the product_Id: 1011\n",
      "Enter the quantity: 5\n",
      "Product:  Airpods\n",
      "Price:  12999\n",
      "Billing Amount:  64995\n",
      "=====================================================================\n",
      "Enter the product_Id: 1003\n",
      "Enter the quantity: 6\n",
      "Product:  Blackcurrant\n",
      "Price:  400\n",
      "Billing Amount:  2400\n",
      "=====================================================================\n",
      "Enter the product_Id: 1025\n",
      "Enter the quantity: 1\n",
      "Product:  Coffee\n",
      "Price:  185\n",
      "Billing Amount:  185\n",
      "=====================================================================\n",
      "Enter the product_Id: 1021\n",
      "Enter the quantity: 3\n",
      "Product:  Shoes\n",
      "Price:  2899\n",
      "Billing Amount:  8697\n",
      "=====================================================================\n",
      "Enter the product_Id: 1014\n",
      "Enter the quantity: 3\n",
      "Product:  Bottle\n",
      "Price:  105\n",
      "Billing Amount:  315\n",
      "=====================================================================\n",
      "Enter the product_Id: 1016\n",
      "Enter the quantity: 4\n",
      "Product:  Calendar\n",
      "Price:  49\n",
      "Billing Amount:  196\n",
      "=====================================================================\n"
     ]
    }
   ],
   "source": [
    "import time\n",
    "\n",
    "no_prod = int(input(\"Enter the number of elements to purchase: \"))\n",
    "print(\"\\n\")\n",
    "print(\"=====================================================================\")\n",
    "sales = {}\n",
    "\n",
    "for i in range(no_prod):\n",
    "    ui_prod  = input(\"Enter the product_Id: \")\n",
    "    ui_quant = int(input(\"Enter the quantity: \"))\n",
    "\n",
    "    if ui_prod in records.keys():\n",
    "        if ui_quant > records[ui_prod]['quantity']:\n",
    "            print(\"The entered value exceeds the quantity\")\n",
    "        \n",
    "        else:\n",
    "            print(\"Product: \", records[ui_prod]['name'])\n",
    "            print(\"Price: \", records[ui_prod]['price'])\n",
    "            print(\"Billing Amount: \", records[ui_prod]['price'] * ui_quant)\n",
    "            print(\"=====================================================================\")\n",
    "            \n",
    "            records[ui_prod]['quantity'] = records[ui_prod]['quantity'] - ui_quant\n",
    "            sales[i + 1] = {'product' : ui_prod, 'quantity' : ui_quant, 'amount': records[ui_prod]['price'] * ui_quant, 'time': time.ctime()}\n",
    "    else:\n",
    "        print(\"Error! Invalid product ID\")\n"
   ]
  },
  {
   "cell_type": "code",
   "execution_count": 32,
   "metadata": {},
   "outputs": [
    {
     "data": {
      "text/plain": [
       "{'1001': {'name': 'Doritos', 'price': 35, 'quantity': 500},\n",
       " '1002': {'name': 'Dairy Milk', 'price': 80, 'quantity': 310},\n",
       " '1003': {'name': 'Blackcurrant', 'price': 400, 'quantity': 94},\n",
       " '1004': {'name': 'Lux', 'price': 50, 'quantity': 920},\n",
       " '1005': {'name': 'VVD', 'price': 120, 'quantity': 120},\n",
       " '1006': {'name': 'Alpenlibe', 'price': 20, 'quantity': 1020},\n",
       " '1007': {'name': 'Sprite', 'price': 65, 'quantity': 885},\n",
       " '1008': {'name': 'Pen', 'price': 10, 'quantity': 1900},\n",
       " '1009': {'name': 'Monitor', 'price': 4500, 'quantity': 150},\n",
       " '1010': {'name': 'Mobile', 'price': 35000, 'quantity': 54},\n",
       " '1011': {'name': 'Airpods', 'price': 12999, 'quantity': 93},\n",
       " '1012': {'name': 'Keyboard', 'price': 699, 'quantity': 20},\n",
       " '1013': {'name': 'Mouse', 'price': 420, 'quantity': 710},\n",
       " '1014': {'name': 'Bottle', 'price': 105, 'quantity': 962},\n",
       " '1015': {'name': 'Charger', 'price': 99, 'quantity': 250},\n",
       " '1016': {'name': 'Calendar', 'price': 49, 'quantity': 541},\n",
       " '1017': {'name': 'Smart Watch', 'price': 3780, 'quantity': 46},\n",
       " '1018': {'name': 'Olive oil', 'price': 299, 'quantity': 104},\n",
       " '1019': {'name': 'Sponge', 'price': 79, 'quantity': 354},\n",
       " '1020': {'name': 'Toolkit', 'price': 799, 'quantity': 22},\n",
       " '1021': {'name': 'Shoes', 'price': 2899, 'quantity': 67},\n",
       " '1022': {'name': 'Shirt', 'price': 570, 'quantity': 400},\n",
       " '1023': {'name': 'Pringles', 'price': 119, 'quantity': 900},\n",
       " '1024': {'name': 'Dish', 'price': 260, 'quantity': 500},\n",
       " '1025': {'name': 'Coffee', 'price': 185, 'quantity': 171},\n",
       " '1026': {'name': 'Air Conditioner', 'price': 42500, 'quantity': 6},\n",
       " '1027': {'name': 'Washing Machine', 'price': 15999, 'quantity': 3},\n",
       " '1028': {'name': 'Pillow', 'price': 975, 'quantity': 87},\n",
       " '1029': {'name': 'Joy Stick', 'price': 1199, 'quantity': 255},\n",
       " '1030': {'name': 'PS5', 'price': 49499, 'quantity': 30},\n",
       " '1031': {'name': 'Xbox One', 'price': 28499, 'quantity': 43}}"
      ]
     },
     "execution_count": 32,
     "metadata": {},
     "output_type": "execute_result"
    }
   ],
   "source": [
    "records"
   ]
  },
  {
   "cell_type": "markdown",
   "metadata": {
    "id": "3h8S8JBVx1_D"
   },
   "source": [
    "## Update Inventory after purchase"
   ]
  },
  {
   "cell_type": "code",
   "execution_count": 33,
   "metadata": {
    "id": "TO68fUvvwzXt"
   },
   "outputs": [],
   "source": [
    "js = json.dumps(records)\n",
    "\n",
    "fd = open(\"record.json\",'w')\n",
    "fd.write(js)\n",
    "fd.close()"
   ]
  },
  {
   "cell_type": "markdown",
   "metadata": {
    "id": "pl_p5yDpyu_9"
   },
   "source": [
    "## Sales JSON"
   ]
  },
  {
   "cell_type": "code",
   "execution_count": 34,
   "metadata": {
    "colab": {
     "base_uri": "https://localhost:8080/",
     "height": 52
    },
    "id": "LRbOdbiUycNe",
    "outputId": "d2f68e95-b223-4d6b-f3f0-155466fc18a0"
   },
   "outputs": [],
   "source": [
    "sale = json.dumps(sales)\n",
    "\n",
    "fd = open(\"sale.json\",'w')\n",
    "fd.write(sale)\n",
    "fd.close()"
   ]
  },
  {
   "cell_type": "code",
   "execution_count": 35,
   "metadata": {},
   "outputs": [],
   "source": [
    "txt = json.loads(sale)"
   ]
  },
  {
   "cell_type": "code",
   "execution_count": 36,
   "metadata": {},
   "outputs": [
    {
     "data": {
      "text/plain": [
       "{'1': {'product': '1025',\n",
       "  'quantity': 3,\n",
       "  'amount': 555,\n",
       "  'time': 'Mon Sep  6 15:54:18 2021'},\n",
       " '2': {'product': '1031',\n",
       "  'quantity': 2,\n",
       "  'amount': 56998,\n",
       "  'time': 'Mon Sep  6 15:54:23 2021'},\n",
       " '3': {'product': '1005',\n",
       "  'quantity': 5,\n",
       "  'amount': 600,\n",
       "  'time': 'Mon Sep  6 15:54:38 2021'},\n",
       " '4': {'product': '1010',\n",
       "  'quantity': 6,\n",
       "  'amount': 210000,\n",
       "  'time': 'Mon Sep  6 15:54:50 2021'},\n",
       " '5': {'product': '1011',\n",
       "  'quantity': 5,\n",
       "  'amount': 64995,\n",
       "  'time': 'Mon Sep  6 15:55:26 2021'},\n",
       " '6': {'product': '1003',\n",
       "  'quantity': 6,\n",
       "  'amount': 2400,\n",
       "  'time': 'Mon Sep  6 15:55:32 2021'},\n",
       " '7': {'product': '1025',\n",
       "  'quantity': 1,\n",
       "  'amount': 185,\n",
       "  'time': 'Mon Sep  6 15:55:37 2021'},\n",
       " '8': {'product': '1021',\n",
       "  'quantity': 3,\n",
       "  'amount': 8697,\n",
       "  'time': 'Mon Sep  6 15:55:43 2021'},\n",
       " '9': {'product': '1014',\n",
       "  'quantity': 3,\n",
       "  'amount': 315,\n",
       "  'time': 'Mon Sep  6 15:55:51 2021'},\n",
       " '10': {'product': '1016',\n",
       "  'quantity': 4,\n",
       "  'amount': 196,\n",
       "  'time': 'Mon Sep  6 15:55:56 2021'}}"
      ]
     },
     "execution_count": 36,
     "metadata": {},
     "output_type": "execute_result"
    }
   ],
   "source": [
    "txt"
   ]
  },
  {
   "cell_type": "code",
   "execution_count": 37,
   "metadata": {},
   "outputs": [],
   "source": [
    "import pandas as pd\n",
    "\n",
    "df = pd.DataFrame.from_dict(txt, orient = 'index')"
   ]
  },
  {
   "cell_type": "code",
   "execution_count": 38,
   "metadata": {},
   "outputs": [
    {
     "data": {
      "text/html": [
       "<div>\n",
       "<style scoped>\n",
       "    .dataframe tbody tr th:only-of-type {\n",
       "        vertical-align: middle;\n",
       "    }\n",
       "\n",
       "    .dataframe tbody tr th {\n",
       "        vertical-align: top;\n",
       "    }\n",
       "\n",
       "    .dataframe thead th {\n",
       "        text-align: right;\n",
       "    }\n",
       "</style>\n",
       "<table border=\"1\" class=\"dataframe\">\n",
       "  <thead>\n",
       "    <tr style=\"text-align: right;\">\n",
       "      <th></th>\n",
       "      <th>product</th>\n",
       "      <th>quantity</th>\n",
       "      <th>amount</th>\n",
       "      <th>time</th>\n",
       "    </tr>\n",
       "  </thead>\n",
       "  <tbody>\n",
       "    <tr>\n",
       "      <th>1</th>\n",
       "      <td>1025</td>\n",
       "      <td>3</td>\n",
       "      <td>555</td>\n",
       "      <td>Mon Sep  6 15:54:18 2021</td>\n",
       "    </tr>\n",
       "    <tr>\n",
       "      <th>2</th>\n",
       "      <td>1031</td>\n",
       "      <td>2</td>\n",
       "      <td>56998</td>\n",
       "      <td>Mon Sep  6 15:54:23 2021</td>\n",
       "    </tr>\n",
       "    <tr>\n",
       "      <th>3</th>\n",
       "      <td>1005</td>\n",
       "      <td>5</td>\n",
       "      <td>600</td>\n",
       "      <td>Mon Sep  6 15:54:38 2021</td>\n",
       "    </tr>\n",
       "    <tr>\n",
       "      <th>4</th>\n",
       "      <td>1010</td>\n",
       "      <td>6</td>\n",
       "      <td>210000</td>\n",
       "      <td>Mon Sep  6 15:54:50 2021</td>\n",
       "    </tr>\n",
       "    <tr>\n",
       "      <th>5</th>\n",
       "      <td>1011</td>\n",
       "      <td>5</td>\n",
       "      <td>64995</td>\n",
       "      <td>Mon Sep  6 15:55:26 2021</td>\n",
       "    </tr>\n",
       "    <tr>\n",
       "      <th>6</th>\n",
       "      <td>1003</td>\n",
       "      <td>6</td>\n",
       "      <td>2400</td>\n",
       "      <td>Mon Sep  6 15:55:32 2021</td>\n",
       "    </tr>\n",
       "    <tr>\n",
       "      <th>7</th>\n",
       "      <td>1025</td>\n",
       "      <td>1</td>\n",
       "      <td>185</td>\n",
       "      <td>Mon Sep  6 15:55:37 2021</td>\n",
       "    </tr>\n",
       "    <tr>\n",
       "      <th>8</th>\n",
       "      <td>1021</td>\n",
       "      <td>3</td>\n",
       "      <td>8697</td>\n",
       "      <td>Mon Sep  6 15:55:43 2021</td>\n",
       "    </tr>\n",
       "    <tr>\n",
       "      <th>9</th>\n",
       "      <td>1014</td>\n",
       "      <td>3</td>\n",
       "      <td>315</td>\n",
       "      <td>Mon Sep  6 15:55:51 2021</td>\n",
       "    </tr>\n",
       "    <tr>\n",
       "      <th>10</th>\n",
       "      <td>1016</td>\n",
       "      <td>4</td>\n",
       "      <td>196</td>\n",
       "      <td>Mon Sep  6 15:55:56 2021</td>\n",
       "    </tr>\n",
       "  </tbody>\n",
       "</table>\n",
       "</div>"
      ],
      "text/plain": [
       "   product  quantity  amount                      time\n",
       "1     1025         3     555  Mon Sep  6 15:54:18 2021\n",
       "2     1031         2   56998  Mon Sep  6 15:54:23 2021\n",
       "3     1005         5     600  Mon Sep  6 15:54:38 2021\n",
       "4     1010         6  210000  Mon Sep  6 15:54:50 2021\n",
       "5     1011         5   64995  Mon Sep  6 15:55:26 2021\n",
       "6     1003         6    2400  Mon Sep  6 15:55:32 2021\n",
       "7     1025         1     185  Mon Sep  6 15:55:37 2021\n",
       "8     1021         3    8697  Mon Sep  6 15:55:43 2021\n",
       "9     1014         3     315  Mon Sep  6 15:55:51 2021\n",
       "10    1016         4     196  Mon Sep  6 15:55:56 2021"
      ]
     },
     "execution_count": 38,
     "metadata": {},
     "output_type": "execute_result"
    }
   ],
   "source": [
    "df"
   ]
  },
  {
   "cell_type": "code",
   "execution_count": 39,
   "metadata": {},
   "outputs": [
    {
     "name": "stdout",
     "output_type": "stream",
     "text": [
      "==========================\n",
      " Billing amount is 344941\n",
      "==========================\n"
     ]
    }
   ],
   "source": [
    "print(\"==========================\")\n",
    "print(\" Billing amount is\",df['amount'].sum())\n",
    "print(\"==========================\")"
   ]
  }
 ],
 "metadata": {
  "colab": {
   "name": "Purchasing Products",
   "provenance": []
  },
  "kernelspec": {
   "display_name": "Python 3",
   "language": "python",
   "name": "python3"
  },
  "language_info": {
   "codemirror_mode": {
    "name": "ipython",
    "version": 3
   },
   "file_extension": ".py",
   "mimetype": "text/x-python",
   "name": "python",
   "nbconvert_exporter": "python",
   "pygments_lexer": "ipython3",
   "version": "3.8.8"
  }
 },
 "nbformat": 4,
 "nbformat_minor": 1
}
