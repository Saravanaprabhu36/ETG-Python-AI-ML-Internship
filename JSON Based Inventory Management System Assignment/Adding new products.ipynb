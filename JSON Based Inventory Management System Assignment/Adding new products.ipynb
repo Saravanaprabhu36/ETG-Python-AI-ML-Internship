{
 "cells": [
  {
   "cell_type": "markdown",
   "metadata": {
    "id": "j9rSMgKytN9V"
   },
   "source": [
    "## Read Data from JSON"
   ]
  },
  {
   "cell_type": "code",
   "execution_count": 1,
   "metadata": {
    "id": "wlQdKmzYpRok"
   },
   "outputs": [],
   "source": [
    "import json\n",
    "\n",
    "\n",
    "records = {1001: {\"name\": \"Doritos\", \"price\": 35, \"quantity\": 500},\n",
    "           1002: {\"name\": \"Dairy Milk\", \"price\": 80, \"quantity\": 310},\n",
    "           1003: {\"name\": \"Blackcurrant\", \"price\": 400, \"quantity\": 100},\n",
    "           1004: {\"name\": \"Lux\", \"price\": 50, \"quantity\": 920},\n",
    "           1005: {\"name\": \"VVD\", \"price\": 120, \"quantity\": 125},\n",
    "           1006: {\"name\": \"Alpenlibe\", \"price\": 20, \"quantity\": 1020},\n",
    "           1007: {\"name\": \"Sprite\", \"price\": 65, \"quantity\": 885},\n",
    "           1008: {\"name\": \"Pen\", \"price\": 10, \"quantity\": 1900},\n",
    "           1009: {\"name\": \"Monitor\", \"price\": 4500, \"quantity\": 150},\n",
    "           1010: {\"name\": \"Mobile\", \"price\": 35000, \"quantity\": 60},\n",
    "           1011: {\"name\": \"Airpods\", \"price\": 12999, \"quantity\": 98},\n",
    "           1012: {\"name\": \"Keyboard\", \"price\": 699, \"quantity\": 20},\n",
    "           1013: {\"name\": \"Mouse\", \"price\": 420, \"quantity\": 710},\n",
    "           1014: {\"name\": \"Bottle\", \"price\": 105, \"quantity\": 965},\n",
    "           1015: {\"name\": \"Charger\", \"price\": 99, \"quantity\": 250},\n",
    "           1016: {\"name\": \"Calendar\", \"price\": 49, \"quantity\": 545},\n",
    "           1017: {\"name\": \"Smart Watch\", \"price\": 3780, \"quantity\": 46},\n",
    "           1018: {\"name\": \"Olive oil\", \"price\": 299, \"quantity\": 104},\n",
    "           1019: {\"name\": \"Sponge\", \"price\": 79, \"quantity\": 354},\n",
    "           1020: {\"name\": \"Toolkit\", \"price\": 799, \"quantity\": 22},\n",
    "           1021: {\"name\": \"Shoes\", \"price\": 2899, \"quantity\": 70},\n",
    "           1022: {\"name\": \"Shirt\", \"price\": 570, \"quantity\": 400},\n",
    "           1023: {\"name\": \"Pringles\", \"price\": 119, \"quantity\": 900},\n",
    "           1024: {\"name\": \"Dish\", \"price\": 260, \"quantity\": 500},\n",
    "           1025: {\"name\": \"Coffee\", \"price\": 185, \"quantity\": 175},\n",
    "           1026: {\"name\": \"Air Conditioner\", \"price\": 42500, \"quantity\": 6},\n",
    "           1027: {\"name\": \"Washing Machine\", \"price\": 15999, \"quantity\": 3},\n",
    "           1028: {\"name\": \"Pillow\", \"price\": 975, \"quantity\": 87},\n",
    "           1029: {\"name\": \"Joy Stick\", \"price\": 1199, \"quantity\": 255},\n",
    "           1030: {\"name\": \"PS5\", \"price\": 49499, \"quantity\": 30}}\n",
    "\n",
    "\n",
    "js = json.dumps(records)\n",
    "\n",
    "fd = open(\"record.json\", 'w')\n",
    "fd.write(js)\n",
    "\n",
    "fd.close()"
   ]
  },
  {
   "cell_type": "code",
   "execution_count": 2,
   "metadata": {},
   "outputs": [],
   "source": [
    "fd = open(\"record.json\", 'r')\n",
    "txt = fd.read()\n",
    "record = json.loads(txt)\n",
    "\n",
    "fd.close()"
   ]
  },
  {
   "cell_type": "code",
   "execution_count": 3,
   "metadata": {
    "colab": {
     "base_uri": "https://localhost:8080/"
    },
    "id": "N8fCrfQHqlUN",
    "outputId": "04f7a640-bbad-429c-d7d1-686ca5ec14e2"
   },
   "outputs": [
    {
     "data": {
      "text/plain": [
       "{'1001': {'name': 'Doritos', 'price': 35, 'quantity': 500},\n",
       " '1002': {'name': 'Dairy Milk', 'price': 80, 'quantity': 310},\n",
       " '1003': {'name': 'Blackcurrant', 'price': 400, 'quantity': 100},\n",
       " '1004': {'name': 'Lux', 'price': 50, 'quantity': 920},\n",
       " '1005': {'name': 'VVD', 'price': 120, 'quantity': 125},\n",
       " '1006': {'name': 'Alpenlibe', 'price': 20, 'quantity': 1020},\n",
       " '1007': {'name': 'Sprite', 'price': 65, 'quantity': 885},\n",
       " '1008': {'name': 'Pen', 'price': 10, 'quantity': 1900},\n",
       " '1009': {'name': 'Monitor', 'price': 4500, 'quantity': 150},\n",
       " '1010': {'name': 'Mobile', 'price': 35000, 'quantity': 60},\n",
       " '1011': {'name': 'Airpods', 'price': 12999, 'quantity': 98},\n",
       " '1012': {'name': 'Keyboard', 'price': 699, 'quantity': 20},\n",
       " '1013': {'name': 'Mouse', 'price': 420, 'quantity': 710},\n",
       " '1014': {'name': 'Bottle', 'price': 105, 'quantity': 965},\n",
       " '1015': {'name': 'Charger', 'price': 99, 'quantity': 250},\n",
       " '1016': {'name': 'Calendar', 'price': 49, 'quantity': 545},\n",
       " '1017': {'name': 'Smart Watch', 'price': 3780, 'quantity': 46},\n",
       " '1018': {'name': 'Olive oil', 'price': 299, 'quantity': 104},\n",
       " '1019': {'name': 'Sponge', 'price': 79, 'quantity': 354},\n",
       " '1020': {'name': 'Toolkit', 'price': 799, 'quantity': 22},\n",
       " '1021': {'name': 'Shoes', 'price': 2899, 'quantity': 70},\n",
       " '1022': {'name': 'Shirt', 'price': 570, 'quantity': 400},\n",
       " '1023': {'name': 'Pringles', 'price': 119, 'quantity': 900},\n",
       " '1024': {'name': 'Dish', 'price': 260, 'quantity': 500},\n",
       " '1025': {'name': 'Coffee', 'price': 185, 'quantity': 175},\n",
       " '1026': {'name': 'Air Conditioner', 'price': 42500, 'quantity': 6},\n",
       " '1027': {'name': 'Washing Machine', 'price': 15999, 'quantity': 3},\n",
       " '1028': {'name': 'Pillow', 'price': 975, 'quantity': 87},\n",
       " '1029': {'name': 'Joy Stick', 'price': 1199, 'quantity': 255},\n",
       " '1030': {'name': 'PS5', 'price': 49499, 'quantity': 30}}"
      ]
     },
     "execution_count": 3,
     "metadata": {},
     "output_type": "execute_result"
    }
   ],
   "source": [
    "record"
   ]
  },
  {
   "cell_type": "markdown",
   "metadata": {
    "id": "fNniKChHtFsH"
   },
   "source": [
    "## Add New Item into Inventory / Change the Current Value"
   ]
  },
  {
   "cell_type": "code",
   "execution_count": 4,
   "metadata": {
    "colab": {
     "base_uri": "https://localhost:8080/"
    },
    "id": "f61BridoqxZN",
    "outputId": "4919a5d7-b839-41df-ec08-b4f39107e984"
   },
   "outputs": [
    {
     "name": "stdout",
     "output_type": "stream",
     "text": [
      "Enter product id:1031\n",
      "Enter name:Xbox One\n",
      "Enter price:29999\n",
      "Enter quantity:20\n"
     ]
    }
   ],
   "source": [
    "prod_id = str(input(\"Enter product id:\"))\n",
    "\n",
    "if prod_id not in record.keys():\n",
    "    \n",
    "    name = str(input(\"Enter name:\"))\n",
    "    pr = int(input(\"Enter price:\"))\n",
    "    qn = int(input(\"Enter quantity:\"))\n",
    "    record[prod_id] = {'name': name, 'price': pr, 'quantity': qn}\n",
    "    \n",
    "else:\n",
    "    print(\"Do you want the price to be changed?\")\n",
    "    if input().upper() == \"YES\":\n",
    "        pr = int(input(\"Enter price to be changed:\"))\n",
    "        record[prod_id]['price'] = pr\n",
    "    qn = int(input(\"Enter quantity to be added:\"))\n",
    "    record[prod_id]['quantity'] += qn\n",
    "\n",
    "js = json.dumps(record)\n",
    "\n",
    "fd = open(\"record.json\",'w')\n",
    "fd.write(js)\n",
    "fd.close()"
   ]
  },
  {
   "cell_type": "code",
   "execution_count": 5,
   "metadata": {
    "colab": {
     "base_uri": "https://localhost:8080/"
    },
    "id": "fqLcVGqqt_cO",
    "outputId": "889a130b-8562-4a35-d430-645ff64724d3",
    "scrolled": false
   },
   "outputs": [
    {
     "data": {
      "text/plain": [
       "{'1001': {'name': 'Doritos', 'price': 35, 'quantity': 500},\n",
       " '1002': {'name': 'Dairy Milk', 'price': 80, 'quantity': 310},\n",
       " '1003': {'name': 'Blackcurrant', 'price': 400, 'quantity': 100},\n",
       " '1004': {'name': 'Lux', 'price': 50, 'quantity': 920},\n",
       " '1005': {'name': 'VVD', 'price': 120, 'quantity': 125},\n",
       " '1006': {'name': 'Alpenlibe', 'price': 20, 'quantity': 1020},\n",
       " '1007': {'name': 'Sprite', 'price': 65, 'quantity': 885},\n",
       " '1008': {'name': 'Pen', 'price': 10, 'quantity': 1900},\n",
       " '1009': {'name': 'Monitor', 'price': 4500, 'quantity': 150},\n",
       " '1010': {'name': 'Mobile', 'price': 35000, 'quantity': 60},\n",
       " '1011': {'name': 'Airpods', 'price': 12999, 'quantity': 98},\n",
       " '1012': {'name': 'Keyboard', 'price': 699, 'quantity': 20},\n",
       " '1013': {'name': 'Mouse', 'price': 420, 'quantity': 710},\n",
       " '1014': {'name': 'Bottle', 'price': 105, 'quantity': 965},\n",
       " '1015': {'name': 'Charger', 'price': 99, 'quantity': 250},\n",
       " '1016': {'name': 'Calendar', 'price': 49, 'quantity': 545},\n",
       " '1017': {'name': 'Smart Watch', 'price': 3780, 'quantity': 46},\n",
       " '1018': {'name': 'Olive oil', 'price': 299, 'quantity': 104},\n",
       " '1019': {'name': 'Sponge', 'price': 79, 'quantity': 354},\n",
       " '1020': {'name': 'Toolkit', 'price': 799, 'quantity': 22},\n",
       " '1021': {'name': 'Shoes', 'price': 2899, 'quantity': 70},\n",
       " '1022': {'name': 'Shirt', 'price': 570, 'quantity': 400},\n",
       " '1023': {'name': 'Pringles', 'price': 119, 'quantity': 900},\n",
       " '1024': {'name': 'Dish', 'price': 260, 'quantity': 500},\n",
       " '1025': {'name': 'Coffee', 'price': 185, 'quantity': 175},\n",
       " '1026': {'name': 'Air Conditioner', 'price': 42500, 'quantity': 6},\n",
       " '1027': {'name': 'Washing Machine', 'price': 15999, 'quantity': 3},\n",
       " '1028': {'name': 'Pillow', 'price': 975, 'quantity': 87},\n",
       " '1029': {'name': 'Joy Stick', 'price': 1199, 'quantity': 255},\n",
       " '1030': {'name': 'PS5', 'price': 49499, 'quantity': 30},\n",
       " '1031': {'name': 'Xbox One', 'price': 29999, 'quantity': 20}}"
      ]
     },
     "execution_count": 5,
     "metadata": {},
     "output_type": "execute_result"
    }
   ],
   "source": [
    "record"
   ]
  },
  {
   "cell_type": "code",
   "execution_count": 6,
   "metadata": {},
   "outputs": [
    {
     "name": "stdout",
     "output_type": "stream",
     "text": [
      "Enter product id:1031\n",
      "Do you want the price to be changed?\n",
      "yes\n",
      "Enter price to be changed:28499\n",
      "Enter quantity to be added:25\n"
     ]
    }
   ],
   "source": [
    "prod_id = str(input(\"Enter product id:\"))\n",
    "\n",
    "if prod_id not in record.keys():\n",
    "    \n",
    "    name = str(input(\"Enter name:\"))\n",
    "    pr = int(input(\"Enter price:\"))\n",
    "    qn = int(input(\"Enter quantity:\"))\n",
    "    record[prod_id] = {'name': name, 'price': pr, 'quantity': qn}\n",
    "    \n",
    "else:\n",
    "    print(\"Do you want the price to be changed?\")\n",
    "    if input().upper() == \"YES\":\n",
    "        pr = int(input(\"Enter price to be changed:\"))\n",
    "        record[prod_id]['price'] = pr\n",
    "    qn = int(input(\"Enter quantity to be added:\"))\n",
    "    record[prod_id]['quantity'] += qn\n",
    "\n",
    "js = json.dumps(record)\n",
    "\n",
    "fd = open(\"record.json\",'w')\n",
    "fd.write(js)\n",
    "fd.close()"
   ]
  },
  {
   "cell_type": "code",
   "execution_count": 7,
   "metadata": {},
   "outputs": [
    {
     "data": {
      "text/plain": [
       "{'1001': {'name': 'Doritos', 'price': 35, 'quantity': 500},\n",
       " '1002': {'name': 'Dairy Milk', 'price': 80, 'quantity': 310},\n",
       " '1003': {'name': 'Blackcurrant', 'price': 400, 'quantity': 100},\n",
       " '1004': {'name': 'Lux', 'price': 50, 'quantity': 920},\n",
       " '1005': {'name': 'VVD', 'price': 120, 'quantity': 125},\n",
       " '1006': {'name': 'Alpenlibe', 'price': 20, 'quantity': 1020},\n",
       " '1007': {'name': 'Sprite', 'price': 65, 'quantity': 885},\n",
       " '1008': {'name': 'Pen', 'price': 10, 'quantity': 1900},\n",
       " '1009': {'name': 'Monitor', 'price': 4500, 'quantity': 150},\n",
       " '1010': {'name': 'Mobile', 'price': 35000, 'quantity': 60},\n",
       " '1011': {'name': 'Airpods', 'price': 12999, 'quantity': 98},\n",
       " '1012': {'name': 'Keyboard', 'price': 699, 'quantity': 20},\n",
       " '1013': {'name': 'Mouse', 'price': 420, 'quantity': 710},\n",
       " '1014': {'name': 'Bottle', 'price': 105, 'quantity': 965},\n",
       " '1015': {'name': 'Charger', 'price': 99, 'quantity': 250},\n",
       " '1016': {'name': 'Calendar', 'price': 49, 'quantity': 545},\n",
       " '1017': {'name': 'Smart Watch', 'price': 3780, 'quantity': 46},\n",
       " '1018': {'name': 'Olive oil', 'price': 299, 'quantity': 104},\n",
       " '1019': {'name': 'Sponge', 'price': 79, 'quantity': 354},\n",
       " '1020': {'name': 'Toolkit', 'price': 799, 'quantity': 22},\n",
       " '1021': {'name': 'Shoes', 'price': 2899, 'quantity': 70},\n",
       " '1022': {'name': 'Shirt', 'price': 570, 'quantity': 400},\n",
       " '1023': {'name': 'Pringles', 'price': 119, 'quantity': 900},\n",
       " '1024': {'name': 'Dish', 'price': 260, 'quantity': 500},\n",
       " '1025': {'name': 'Coffee', 'price': 185, 'quantity': 175},\n",
       " '1026': {'name': 'Air Conditioner', 'price': 42500, 'quantity': 6},\n",
       " '1027': {'name': 'Washing Machine', 'price': 15999, 'quantity': 3},\n",
       " '1028': {'name': 'Pillow', 'price': 975, 'quantity': 87},\n",
       " '1029': {'name': 'Joy Stick', 'price': 1199, 'quantity': 255},\n",
       " '1030': {'name': 'PS5', 'price': 49499, 'quantity': 30},\n",
       " '1031': {'name': 'Xbox One', 'price': 28499, 'quantity': 45}}"
      ]
     },
     "execution_count": 7,
     "metadata": {},
     "output_type": "execute_result"
    }
   ],
   "source": [
    "record"
   ]
  },
  {
   "cell_type": "markdown",
   "metadata": {},
   "source": [
    "# Delete an item from inventory"
   ]
  },
  {
   "cell_type": "code",
   "execution_count": 8,
   "metadata": {
    "id": "Mh8xAFUk7qFv"
   },
   "outputs": [],
   "source": [
    "del record['1021']"
   ]
  },
  {
   "cell_type": "code",
   "execution_count": 9,
   "metadata": {
    "colab": {
     "base_uri": "https://localhost:8080/"
    },
    "id": "n0UdHaVVFFLB",
    "outputId": "af2d581b-583d-4be6-fd62-425bcd2343ea",
    "scrolled": false
   },
   "outputs": [
    {
     "data": {
      "text/plain": [
       "{'1001': {'name': 'Doritos', 'price': 35, 'quantity': 500},\n",
       " '1002': {'name': 'Dairy Milk', 'price': 80, 'quantity': 310},\n",
       " '1003': {'name': 'Blackcurrant', 'price': 400, 'quantity': 100},\n",
       " '1004': {'name': 'Lux', 'price': 50, 'quantity': 920},\n",
       " '1005': {'name': 'VVD', 'price': 120, 'quantity': 125},\n",
       " '1006': {'name': 'Alpenlibe', 'price': 20, 'quantity': 1020},\n",
       " '1007': {'name': 'Sprite', 'price': 65, 'quantity': 885},\n",
       " '1008': {'name': 'Pen', 'price': 10, 'quantity': 1900},\n",
       " '1009': {'name': 'Monitor', 'price': 4500, 'quantity': 150},\n",
       " '1010': {'name': 'Mobile', 'price': 35000, 'quantity': 60},\n",
       " '1011': {'name': 'Airpods', 'price': 12999, 'quantity': 98},\n",
       " '1012': {'name': 'Keyboard', 'price': 699, 'quantity': 20},\n",
       " '1013': {'name': 'Mouse', 'price': 420, 'quantity': 710},\n",
       " '1014': {'name': 'Bottle', 'price': 105, 'quantity': 965},\n",
       " '1015': {'name': 'Charger', 'price': 99, 'quantity': 250},\n",
       " '1016': {'name': 'Calendar', 'price': 49, 'quantity': 545},\n",
       " '1017': {'name': 'Smart Watch', 'price': 3780, 'quantity': 46},\n",
       " '1018': {'name': 'Olive oil', 'price': 299, 'quantity': 104},\n",
       " '1019': {'name': 'Sponge', 'price': 79, 'quantity': 354},\n",
       " '1020': {'name': 'Toolkit', 'price': 799, 'quantity': 22},\n",
       " '1022': {'name': 'Shirt', 'price': 570, 'quantity': 400},\n",
       " '1023': {'name': 'Pringles', 'price': 119, 'quantity': 900},\n",
       " '1024': {'name': 'Dish', 'price': 260, 'quantity': 500},\n",
       " '1025': {'name': 'Coffee', 'price': 185, 'quantity': 175},\n",
       " '1026': {'name': 'Air Conditioner', 'price': 42500, 'quantity': 6},\n",
       " '1027': {'name': 'Washing Machine', 'price': 15999, 'quantity': 3},\n",
       " '1028': {'name': 'Pillow', 'price': 975, 'quantity': 87},\n",
       " '1029': {'name': 'Joy Stick', 'price': 1199, 'quantity': 255},\n",
       " '1030': {'name': 'PS5', 'price': 49499, 'quantity': 30},\n",
       " '1031': {'name': 'Xbox One', 'price': 28499, 'quantity': 45}}"
      ]
     },
     "execution_count": 9,
     "metadata": {},
     "output_type": "execute_result"
    }
   ],
   "source": [
    "record"
   ]
  }
 ],
 "metadata": {
  "colab": {
   "name": "Adding new Products",
   "provenance": []
  },
  "kernelspec": {
   "display_name": "Python 3",
   "language": "python",
   "name": "python3"
  },
  "language_info": {
   "codemirror_mode": {
    "name": "ipython",
    "version": 3
   },
   "file_extension": ".py",
   "mimetype": "text/x-python",
   "name": "python",
   "nbconvert_exporter": "python",
   "pygments_lexer": "ipython3",
   "version": "3.8.8"
  }
 },
 "nbformat": 4,
 "nbformat_minor": 1
}
